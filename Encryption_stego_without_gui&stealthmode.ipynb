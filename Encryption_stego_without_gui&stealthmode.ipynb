{
 "cells": [
  {
   "cell_type": "markdown",
   "id": "5f805d29-5cae-4a77-89f8-733ef7b03ae1",
   "metadata": {},
   "source": [
    "WITHOUT GUI "
   ]
  },
  {
   "cell_type": "code",
   "execution_count": 1,
   "id": "c4793111-477a-438f-af26-271ac03146b1",
   "metadata": {},
   "outputs": [
    {
     "name": "stdout",
     "output_type": "stream",
     "text": [
      "Collecting opencv-python\n",
      "  Downloading opencv_python-4.11.0.86-cp37-abi3-win_amd64.whl.metadata (20 kB)\n",
      "Collecting numpy\n",
      "  Downloading numpy-2.2.3-cp313-cp313-win_amd64.whl.metadata (60 kB)\n",
      "Collecting pillow\n",
      "  Downloading pillow-11.1.0-cp313-cp313-win_amd64.whl.metadata (9.3 kB)\n",
      "Downloading opencv_python-4.11.0.86-cp37-abi3-win_amd64.whl (39.5 MB)\n",
      "   ---------------------------------------- 0.0/39.5 MB ? eta -:--:--\n",
      "   --- ------------------------------------ 3.1/39.5 MB 14.5 MB/s eta 0:00:03\n",
      "   ----- ---------------------------------- 5.2/39.5 MB 12.7 MB/s eta 0:00:03\n",
      "   ------- -------------------------------- 7.3/39.5 MB 11.2 MB/s eta 0:00:03\n",
      "   --------- ------------------------------ 9.7/39.5 MB 11.4 MB/s eta 0:00:03\n",
      "   ----------- ---------------------------- 11.8/39.5 MB 11.0 MB/s eta 0:00:03\n",
      "   ------------- -------------------------- 13.6/39.5 MB 10.7 MB/s eta 0:00:03\n",
      "   --------------- ------------------------ 15.7/39.5 MB 10.6 MB/s eta 0:00:03\n",
      "   ------------------ --------------------- 17.8/39.5 MB 10.5 MB/s eta 0:00:03\n",
      "   -------------------- ------------------- 19.9/39.5 MB 10.3 MB/s eta 0:00:02\n",
      "   --------------------- ------------------ 21.5/39.5 MB 10.2 MB/s eta 0:00:02\n",
      "   ----------------------- ---------------- 23.6/39.5 MB 10.1 MB/s eta 0:00:02\n",
      "   -------------------------- ------------- 25.7/39.5 MB 10.1 MB/s eta 0:00:02\n",
      "   ---------------------------- ----------- 27.8/39.5 MB 10.1 MB/s eta 0:00:02\n",
      "   ------------------------------ --------- 29.6/39.5 MB 10.0 MB/s eta 0:00:01\n",
      "   -------------------------------- ------- 31.7/39.5 MB 10.0 MB/s eta 0:00:01\n",
      "   --------------------------------- ------ 33.6/39.5 MB 9.9 MB/s eta 0:00:01\n",
      "   ----------------------------------- ---- 35.4/39.5 MB 9.9 MB/s eta 0:00:01\n",
      "   ------------------------------------- -- 37.5/39.5 MB 9.9 MB/s eta 0:00:01\n",
      "   ---------------------------------------  39.3/39.5 MB 9.9 MB/s eta 0:00:01\n",
      "   ---------------------------------------- 39.5/39.5 MB 9.4 MB/s eta 0:00:00\n",
      "Downloading numpy-2.2.3-cp313-cp313-win_amd64.whl (12.6 MB)\n",
      "   ---------------------------------------- 0.0/12.6 MB ? eta -:--:--\n",
      "   ------ --------------------------------- 2.1/12.6 MB 11.3 MB/s eta 0:00:01\n",
      "   --------------- ------------------------ 5.0/12.6 MB 12.5 MB/s eta 0:00:01\n",
      "   ---------------------- ----------------- 7.1/12.6 MB 11.5 MB/s eta 0:00:01\n",
      "   ---------------------------- ----------- 8.9/12.6 MB 10.9 MB/s eta 0:00:01\n",
      "   ---------------------------------- ----- 11.0/12.6 MB 10.6 MB/s eta 0:00:01\n",
      "   ---------------------------------------  12.6/12.6 MB 10.5 MB/s eta 0:00:01\n",
      "   ---------------------------------------- 12.6/12.6 MB 8.9 MB/s eta 0:00:00\n",
      "Downloading pillow-11.1.0-cp313-cp313-win_amd64.whl (2.6 MB)\n",
      "   ---------------------------------------- 0.0/2.6 MB ? eta -:--:--\n",
      "   ---------------------------------------  2.6/2.6 MB 14.1 MB/s eta 0:00:01\n",
      "   ---------------------------------------- 2.6/2.6 MB 11.1 MB/s eta 0:00:00\n",
      "Installing collected packages: pillow, numpy, opencv-python\n",
      "Successfully installed numpy-2.2.3 opencv-python-4.11.0.86 pillow-11.1.0\n"
     ]
    },
    {
     "name": "stderr",
     "output_type": "stream",
     "text": [
      "\n",
      "[notice] A new release of pip is available: 24.3.1 -> 25.0.1\n",
      "[notice] To update, run: python.exe -m pip install --upgrade pip\n"
     ]
    }
   ],
   "source": [
    "!pip install opencv-python numpy pillow\n"
   ]
  },
  {
   "cell_type": "code",
   "execution_count": 3,
   "id": "9490e877-4d7a-4fc8-9ff1-0bf657cfb89e",
   "metadata": {},
   "outputs": [
    {
     "name": "stdin",
     "output_type": "stream",
     "text": [
      "Enter the path of the cover image (e.g., mypic.jpg):  Sunflower.webp\n",
      "Enter the path of the text file containing the secret message:  message.txt\n",
      "Enter a password for encryption:  1234\n"
     ]
    },
    {
     "name": "stdout",
     "output_type": "stream",
     "text": [
      "Message encrypted successfully! Saved as 'encryptedImage_without_gui&stealthMode.png'.\n",
      "Pixel positions are saved in 'pixel_log_without_gui&stealthMode.txt'.\n"
     ]
    }
   ],
   "source": [
    "import cv2\n",
    "import numpy as np\n",
    "import hashlib\n",
    "from PIL import Image\n",
    "\n",
    "def encrypt_image():\n",
    "    # Ask user for the cover image file\n",
    "    image_path = input(\"Enter the path of the cover image (e.g., mypic.jpg): \").strip()\n",
    "    \n",
    "    # Ask user for the text file containing the secret message\n",
    "    text_file = input(\"Enter the path of the text file containing the secret message: \").strip()\n",
    "    \n",
    "    # Ask for password\n",
    "    password = input(\"Enter a password for encryption: \").strip()\n",
    "\n",
    "    # Read the secret message from the text file\n",
    "    try:\n",
    "        with open(text_file, \"r\", encoding=\"utf-8\") as file:\n",
    "            secret_msg = file.read().strip()\n",
    "    except FileNotFoundError:\n",
    "        print(\"Error: Text file not found!\")\n",
    "        return\n",
    "    except Exception as e:\n",
    "        print(f\"Error reading the file: {e}\")\n",
    "        return\n",
    "\n",
    "    # Open image using PIL to preserve metadata\n",
    "    try:\n",
    "        img = Image.open(image_path).convert(\"RGB\")  # Ensure RGB mode\n",
    "        pixels = np.array(img, dtype=np.uint8)  # Ensure proper data type\n",
    "    except FileNotFoundError:\n",
    "        print(\"Error: Image file not found!\")\n",
    "        return\n",
    "    except Exception as e:\n",
    "        print(f\"Error loading the image: {e}\")\n",
    "        return\n",
    "\n",
    "    # Check if message can fit in the image\n",
    "    max_bytes = pixels.shape[0] * pixels.shape[1] * 3 // 8\n",
    "    secret_msg += \"###END###\"  # Add a delimiter\n",
    "    binary_msg = ''.join(format(ord(c), '08b') for c in secret_msg)\n",
    "\n",
    "    if len(binary_msg) > max_bytes * 8:\n",
    "        print(\"Error: Message is too large to hide in this image.\")\n",
    "        return\n",
    "\n",
    "    # Hash the password (store hashed password for security)\n",
    "    password_hash = hashlib.sha256(password.encode()).hexdigest()\n",
    "\n",
    "    # Create a log file to store pixel positions\n",
    "    log_file = open(\"pixel_log_without_gui&stealthMode.txt\", \"w\")\n",
    "    log_file.write(\"Bit storage locations (row, col, channel):\\n\")\n",
    "\n",
    "    # Encode message in Least Significant Bits (LSB)\n",
    "    idx = 0\n",
    "    for row in range(pixels.shape[0]):\n",
    "        for col in range(pixels.shape[1]):\n",
    "            for channel in range(3):  # Modify R, G, B channels\n",
    "                if idx < len(binary_msg):\n",
    "                    pixels[row, col, channel] = (int(pixels[row, col, channel]) & ~1) | int(binary_msg[idx])\n",
    "                    # Log the position of the bit storage\n",
    "                    log_file.write(f\"Bit {binary_msg[idx]} -> Pixel ({row}, {col}, {channel})\\n\")\n",
    "                    idx += 1\n",
    "\n",
    "    log_file.close()  # Close the log file\n",
    "\n",
    "    # Save the encrypted image\n",
    "    encrypted_img = Image.fromarray(pixels)\n",
    "    encrypted_img.save(\"encryptedImage__without_gui&stealthMode.png\", format=\"PNG\")  # Preserve metadata\n",
    "\n",
    "    # Save the hashed password for authentication\n",
    "    with open(\"password_hash.txt\", \"w\") as f:\n",
    "        f.write(password_hash)\n",
    "\n",
    "    print(\"Message encrypted successfully! Saved as 'encryptedImage_without_gui&stealthMode.png'.\")\n",
    "    print(\"Pixel positions are saved in 'pixel_log_without_gui&stealthMode.txt'.\")\n",
    "\n",
    "# Run the encryption function\n",
    "encrypt_image()\n"
   ]
  },
  {
   "cell_type": "code",
   "execution_count": null,
   "id": "f7a5f835-34c7-493e-93ef-7c065d2750e8",
   "metadata": {},
   "outputs": [],
   "source": []
  }
 ],
 "metadata": {
  "kernelspec": {
   "display_name": "Python 3 (ipykernel)",
   "language": "python",
   "name": "python3"
  },
  "language_info": {
   "codemirror_mode": {
    "name": "ipython",
    "version": 3
   },
   "file_extension": ".py",
   "mimetype": "text/x-python",
   "name": "python",
   "nbconvert_exporter": "python",
   "pygments_lexer": "ipython3",
   "version": "3.13.2"
  }
 },
 "nbformat": 4,
 "nbformat_minor": 5
}
