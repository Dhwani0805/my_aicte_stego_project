{
 "cells": [
  {
   "cell_type": "code",
   "execution_count": 4,
   "id": "2f26692d-4229-42ad-a05f-cd0eb8a8605b",
   "metadata": {},
   "outputs": [
    {
     "name": "stdin",
     "output_type": "stream",
     "text": [
      "Enter the path of the encrypted image (e.g., encryptedImage.png):  encryptedImage__without_gui&stealthMode.png\n",
      "Enter the password for decryption:  1234\n"
     ]
    },
    {
     "name": "stdout",
     "output_type": "stream",
     "text": [
      "Password verified successfully!\n",
      "Decrypted Message: my password is 0908/ my id is w3w3\n"
     ]
    }
   ],
   "source": [
    "import cv2\n",
    "import numpy as np\n",
    "import hashlib\n",
    "from PIL import Image\n",
    "\n",
    "def decrypt_image():\n",
    "    # Ask for the encrypted image file\n",
    "    image_path = input(\"Enter the path of the encrypted image (e.g., encryptedImage.png): \").strip()\n",
    "\n",
    "    # Ask for the password\n",
    "    password = input(\"Enter the password for decryption: \").strip()\n",
    "\n",
    "    # Hash the entered password\n",
    "    password_hash = hashlib.sha256(password.encode()).hexdigest()\n",
    "\n",
    "    # Read the stored hashed password\n",
    "    try:\n",
    "        with open(\"password_hash.txt\", \"r\") as f:\n",
    "            stored_hash = f.read().strip()\n",
    "    except FileNotFoundError:\n",
    "        print(\"Error: Password file not found!\")\n",
    "        return\n",
    "\n",
    "    # Verify if the entered password is correct\n",
    "    if password_hash != stored_hash:\n",
    "        print(\"Authentication failed! Incorrect password.\")\n",
    "        return\n",
    "\n",
    "    print(\"Password verified successfully!\")\n",
    "\n",
    "    # Load the encrypted image\n",
    "    try:\n",
    "        img = Image.open(image_path).convert(\"RGB\")  # Ensure RGB mode\n",
    "        pixels = np.array(img, dtype=np.uint8)\n",
    "    except FileNotFoundError:\n",
    "        print(\"Error: Image file not found!\")\n",
    "        return\n",
    "    except Exception as e:\n",
    "        print(f\"Error loading the image: {e}\")\n",
    "        return\n",
    "\n",
    "    # Extract binary message from image\n",
    "    binary_msg = \"\"\n",
    "    for row in range(pixels.shape[0]):\n",
    "        for col in range(pixels.shape[1]):\n",
    "            for channel in range(3):  # Read from R, G, B channels\n",
    "                binary_msg += str(pixels[row, col, channel] & 1)\n",
    "\n",
    "    # Convert binary to text\n",
    "    chars = [binary_msg[i:i+8] for i in range(0, len(binary_msg), 8)]\n",
    "    message = ''.join(chr(int(c, 2)) for c in chars)\n",
    "\n",
    "    # Stop reading at the \"###END###\" delimiter\n",
    "    if \"###END###\" in message:\n",
    "        message = message[:message.index(\"###END###\")]\n",
    "        print(\"Decrypted Message:\", message)\n",
    "    else:\n",
    "        print(\"No hidden message found!\")\n",
    "\n",
    "# Run the decryption function\n",
    "decrypt_image()\n"
   ]
  },
  {
   "cell_type": "code",
   "execution_count": null,
   "id": "7530c4ea-889e-4b05-b881-3dd65022bc38",
   "metadata": {},
   "outputs": [],
   "source": []
  }
 ],
 "metadata": {
  "kernelspec": {
   "display_name": "Python 3 (ipykernel)",
   "language": "python",
   "name": "python3"
  },
  "language_info": {
   "codemirror_mode": {
    "name": "ipython",
    "version": 3
   },
   "file_extension": ".py",
   "mimetype": "text/x-python",
   "name": "python",
   "nbconvert_exporter": "python",
   "pygments_lexer": "ipython3",
   "version": "3.13.2"
  }
 },
 "nbformat": 4,
 "nbformat_minor": 5
}
